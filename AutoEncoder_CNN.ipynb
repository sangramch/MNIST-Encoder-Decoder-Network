{
  "nbformat": 4,
  "nbformat_minor": 0,
  "metadata": {
    "colab": {
      "name": "AutoEncoder CNN.ipynb",
      "provenance": [],
      "collapsed_sections": [],
      "authorship_tag": "ABX9TyNNOU90SA8rKRo97srhmPZY"
    },
    "kernelspec": {
      "name": "python3",
      "display_name": "Python 3"
    },
    "accelerator": "GPU"
  },
  "cells": [
    {
      "cell_type": "code",
      "metadata": {
        "id": "iDt3JVue88TL",
        "colab_type": "code",
        "colab": {}
      },
      "source": [
        "from tensorflow.keras.models import Model\n",
        "from tensorflow.keras.layers import Conv2D,MaxPooling2D,Input,UpSampling2D,ReLU\n",
        "from tensorflow.keras.optimizers import RMSprop,Adam\n",
        "import numpy as np\n",
        "import matplotlib.pyplot as plt\n",
        "import tensorflow as tf\n",
        "import tensorflow.keras.datasets\n",
        "from sklearn.model_selection import train_test_split"
      ],
      "execution_count": 0,
      "outputs": []
    },
    {
      "cell_type": "code",
      "metadata": {
        "id": "KiEVXEBm-V62",
        "colab_type": "code",
        "colab": {
          "base_uri": "https://localhost:8080/",
          "height": 50
        },
        "outputId": "a46b3c6e-8103-49e9-b433-f569981fcc61"
      },
      "source": [
        "(X_train_loaded, y_train), (X_test_loaded, y_test) = tensorflow.keras.datasets.mnist.load_data()\n",
        "\n",
        "#normalization\n",
        "X_train_loaded=X_train_loaded.astype(\"float32\")/255.0\n",
        "X_test_loaded=X_test_loaded.astype(\"float32\")/255.0\n",
        "\n",
        "#reshape to match input shape\n",
        "X_train=X_train_loaded.reshape(60000,28,28,1)\n",
        "X_test=X_test_loaded.reshape(10000,28,28,1)\n",
        "\n",
        "#train validation split\n",
        "X_train,X_val,y_train,y_val=train_test_split(X_train,y_train,test_size=0.1)"
      ],
      "execution_count": 2,
      "outputs": [
        {
          "output_type": "stream",
          "text": [
            "Downloading data from https://storage.googleapis.com/tensorflow/tf-keras-datasets/mnist.npz\n",
            "11493376/11490434 [==============================] - 0s 0us/step\n"
          ],
          "name": "stdout"
        }
      ]
    },
    {
      "cell_type": "code",
      "metadata": {
        "id": "cfBPu6ji-dHg",
        "colab_type": "code",
        "outputId": "6f82868b-cce1-488b-8586-26e6b2e84bca",
        "colab": {
          "base_uri": "https://localhost:8080/",
          "height": 588
        }
      },
      "source": [
        "#encoder definition\n",
        "\n",
        "enc_in=Input(shape=(28,28,1))\n",
        "\n",
        "enc_conv_l1=Conv2D(16,kernel_size=3,padding=\"same\")(enc_in)\n",
        "enc_act_l1=ReLU()(enc_conv_l1)\n",
        "\n",
        "enc_conv_l2=Conv2D(32,kernel_size=5,padding=\"same\")(enc_act_l1)\n",
        "enc_act_l2=ReLU()(enc_conv_l2)\n",
        "\n",
        "enc_mpool_l1=MaxPooling2D()(enc_act_l2)\n",
        "\n",
        "enc_conv_l3=Conv2D(32,kernel_size=5,padding=\"same\")(enc_mpool_l1)\n",
        "enc_act_l3=ReLU()(enc_conv_l3)\n",
        "\n",
        "enc_conv_l4=Conv2D(16,kernel_size=5,padding=\"same\")(enc_act_l3)\n",
        "enc_act_l4=ReLU()(enc_conv_l4)\n",
        "\n",
        "enc_mpool_l2=MaxPooling2D()(enc_act_l4)\n",
        "\n",
        "enc_conv_l5=Conv2D(1,kernel_size=5,padding=\"same\")(enc_mpool_l2)\n",
        "enc_act_l5=ReLU()(enc_conv_l5)\n",
        "\n",
        "encoder=Model(enc_in,enc_act_l5)\n",
        "encoder.summary()"
      ],
      "execution_count": 3,
      "outputs": [
        {
          "output_type": "stream",
          "text": [
            "Model: \"model\"\n",
            "_________________________________________________________________\n",
            "Layer (type)                 Output Shape              Param #   \n",
            "=================================================================\n",
            "input_1 (InputLayer)         [(None, 28, 28, 1)]       0         \n",
            "_________________________________________________________________\n",
            "conv2d (Conv2D)              (None, 28, 28, 16)        160       \n",
            "_________________________________________________________________\n",
            "re_lu (ReLU)                 (None, 28, 28, 16)        0         \n",
            "_________________________________________________________________\n",
            "conv2d_1 (Conv2D)            (None, 28, 28, 32)        12832     \n",
            "_________________________________________________________________\n",
            "re_lu_1 (ReLU)               (None, 28, 28, 32)        0         \n",
            "_________________________________________________________________\n",
            "max_pooling2d (MaxPooling2D) (None, 14, 14, 32)        0         \n",
            "_________________________________________________________________\n",
            "conv2d_2 (Conv2D)            (None, 14, 14, 32)        25632     \n",
            "_________________________________________________________________\n",
            "re_lu_2 (ReLU)               (None, 14, 14, 32)        0         \n",
            "_________________________________________________________________\n",
            "conv2d_3 (Conv2D)            (None, 14, 14, 16)        12816     \n",
            "_________________________________________________________________\n",
            "re_lu_3 (ReLU)               (None, 14, 14, 16)        0         \n",
            "_________________________________________________________________\n",
            "max_pooling2d_1 (MaxPooling2 (None, 7, 7, 16)          0         \n",
            "_________________________________________________________________\n",
            "conv2d_4 (Conv2D)            (None, 7, 7, 1)           401       \n",
            "_________________________________________________________________\n",
            "re_lu_4 (ReLU)               (None, 7, 7, 1)           0         \n",
            "=================================================================\n",
            "Total params: 51,841\n",
            "Trainable params: 51,841\n",
            "Non-trainable params: 0\n",
            "_________________________________________________________________\n"
          ],
          "name": "stdout"
        }
      ]
    },
    {
      "cell_type": "code",
      "metadata": {
        "id": "85drWnoLEKfL",
        "colab_type": "code",
        "outputId": "40b718ee-3e48-4468-b5a3-412883410bc1",
        "colab": {
          "base_uri": "https://localhost:8080/",
          "height": 655
        }
      },
      "source": [
        "#decoder definition\n",
        "\n",
        "dec_in=Input(shape=(7,7,1))\n",
        "\n",
        "dec_conv_l1=Conv2D(16,kernel_size=3,padding='same')(dec_in)\n",
        "dec_act_l1=ReLU()(dec_conv_l1)\n",
        "\n",
        "dec_conv_l2=Conv2D(32,kernel_size=3,padding='same')(dec_act_l1)\n",
        "dec_act_l2=ReLU()(dec_conv_l2)\n",
        "\n",
        "dec_usamp_l1=UpSampling2D()(dec_act_l2)\n",
        "\n",
        "dec_conv_l3=Conv2D(32,kernel_size=3,padding='same')(dec_usamp_l1)\n",
        "dec_act_l3=ReLU()(dec_conv_l3)\n",
        "\n",
        "dec_conv_l4=Conv2D(16,kernel_size=3,padding='same')(dec_act_l3)\n",
        "dec_act_l4=ReLU()(dec_conv_l4)\n",
        "\n",
        "dec_usamp_l2=UpSampling2D()(dec_act_l4)\n",
        "\n",
        "dec_conv_l5=Conv2D(8,kernel_size=3,padding='same')(dec_usamp_l2)\n",
        "dec_act_l5=ReLU()(dec_conv_l5)\n",
        "\n",
        "dec_conv_l6=Conv2D(1,kernel_size=3,padding='same')(dec_act_l5)\n",
        "dec_act_l6=ReLU()(dec_conv_l6)\n",
        "\n",
        "decoder=Model(dec_in,dec_act_l6)\n",
        "decoder.summary()"
      ],
      "execution_count": 4,
      "outputs": [
        {
          "output_type": "stream",
          "text": [
            "Model: \"model_1\"\n",
            "_________________________________________________________________\n",
            "Layer (type)                 Output Shape              Param #   \n",
            "=================================================================\n",
            "input_2 (InputLayer)         [(None, 7, 7, 1)]         0         \n",
            "_________________________________________________________________\n",
            "conv2d_5 (Conv2D)            (None, 7, 7, 16)          160       \n",
            "_________________________________________________________________\n",
            "re_lu_5 (ReLU)               (None, 7, 7, 16)          0         \n",
            "_________________________________________________________________\n",
            "conv2d_6 (Conv2D)            (None, 7, 7, 32)          4640      \n",
            "_________________________________________________________________\n",
            "re_lu_6 (ReLU)               (None, 7, 7, 32)          0         \n",
            "_________________________________________________________________\n",
            "up_sampling2d (UpSampling2D) (None, 14, 14, 32)        0         \n",
            "_________________________________________________________________\n",
            "conv2d_7 (Conv2D)            (None, 14, 14, 32)        9248      \n",
            "_________________________________________________________________\n",
            "re_lu_7 (ReLU)               (None, 14, 14, 32)        0         \n",
            "_________________________________________________________________\n",
            "conv2d_8 (Conv2D)            (None, 14, 14, 16)        4624      \n",
            "_________________________________________________________________\n",
            "re_lu_8 (ReLU)               (None, 14, 14, 16)        0         \n",
            "_________________________________________________________________\n",
            "up_sampling2d_1 (UpSampling2 (None, 28, 28, 16)        0         \n",
            "_________________________________________________________________\n",
            "conv2d_9 (Conv2D)            (None, 28, 28, 8)         1160      \n",
            "_________________________________________________________________\n",
            "re_lu_9 (ReLU)               (None, 28, 28, 8)         0         \n",
            "_________________________________________________________________\n",
            "conv2d_10 (Conv2D)           (None, 28, 28, 1)         73        \n",
            "_________________________________________________________________\n",
            "re_lu_10 (ReLU)              (None, 28, 28, 1)         0         \n",
            "=================================================================\n",
            "Total params: 19,905\n",
            "Trainable params: 19,905\n",
            "Non-trainable params: 0\n",
            "_________________________________________________________________\n"
          ],
          "name": "stdout"
        }
      ]
    },
    {
      "cell_type": "code",
      "metadata": {
        "id": "SCP3lgehIfT8",
        "colab_type": "code",
        "outputId": "ef3f3225-f69f-44df-d78f-e9b95ff98d10",
        "colab": {
          "base_uri": "https://localhost:8080/",
          "height": 252
        }
      },
      "source": [
        "#combined encoder decoder model for training\n",
        "enc_dec_input=Input(shape=(28,28,1))\n",
        "enc_dec_encout=encoder(enc_dec_input)\n",
        "enc_dec_output=decoder(enc_dec_encout)\n",
        "\n",
        "enc_dec_model=Model(enc_dec_input,enc_dec_output)\n",
        "enc_dec_model.compile(loss=\"mse\",optimizer=Adam())\n",
        "enc_dec_model.summary()"
      ],
      "execution_count": 5,
      "outputs": [
        {
          "output_type": "stream",
          "text": [
            "Model: \"model_2\"\n",
            "_________________________________________________________________\n",
            "Layer (type)                 Output Shape              Param #   \n",
            "=================================================================\n",
            "input_3 (InputLayer)         [(None, 28, 28, 1)]       0         \n",
            "_________________________________________________________________\n",
            "model (Model)                (None, 7, 7, 1)           51841     \n",
            "_________________________________________________________________\n",
            "model_1 (Model)              (None, 28, 28, 1)         19905     \n",
            "=================================================================\n",
            "Total params: 71,746\n",
            "Trainable params: 71,746\n",
            "Non-trainable params: 0\n",
            "_________________________________________________________________\n"
          ],
          "name": "stdout"
        }
      ]
    },
    {
      "cell_type": "code",
      "metadata": {
        "id": "htTh5wHOHdaf",
        "colab_type": "code",
        "outputId": "8561655e-adb8-46ee-c8fa-bf7af5f5f93c",
        "colab": {
          "base_uri": "https://localhost:8080/",
          "height": 1000
        }
      },
      "source": [
        "#first train only decoder, then only encoder, and finally both together\n",
        "\n",
        "encoder.trainable=False\n",
        "enc_dec_model.fit(X_train,X_train,epochs=7,validation_data=(X_val,X_val),batch_size=512)\n",
        "encoder.trainable=True\n",
        "\n",
        "decoder.trainable=False\n",
        "enc_dec_model.fit(X_train,X_train,epochs=8,validation_data=(X_val,X_val),batch_size=512)\n",
        "decoder.trainable=True\n",
        "\n",
        "enc_dec_model.fit(X_train,X_train,epochs=15,validation_data=(X_val,X_val),batch_size=512)"
      ],
      "execution_count": 6,
      "outputs": [
        {
          "output_type": "stream",
          "text": [
            "Epoch 1/7\n",
            "106/106 [==============================] - 6s 54ms/step - loss: 0.0397 - val_loss: 0.0151\n",
            "Epoch 2/7\n",
            "106/106 [==============================] - 5s 48ms/step - loss: 0.0116 - val_loss: 0.0091\n",
            "Epoch 3/7\n",
            "106/106 [==============================] - 5s 47ms/step - loss: 0.0088 - val_loss: 0.0079\n",
            "Epoch 4/7\n",
            "106/106 [==============================] - 5s 48ms/step - loss: 0.0072 - val_loss: 0.0068\n",
            "Epoch 5/7\n",
            "106/106 [==============================] - 5s 48ms/step - loss: 0.0067 - val_loss: 0.0062\n",
            "Epoch 6/7\n",
            "106/106 [==============================] - 5s 48ms/step - loss: 0.0061 - val_loss: 0.0058\n",
            "Epoch 7/7\n",
            "106/106 [==============================] - 5s 48ms/step - loss: 0.0058 - val_loss: 0.0055\n",
            "Epoch 1/8\n",
            "106/106 [==============================] - 5s 48ms/step - loss: 0.0055 - val_loss: 0.0054\n",
            "Epoch 2/8\n",
            "106/106 [==============================] - 5s 47ms/step - loss: 0.0052 - val_loss: 0.0050\n",
            "Epoch 3/8\n",
            "106/106 [==============================] - 5s 48ms/step - loss: 0.0050 - val_loss: 0.0048\n",
            "Epoch 4/8\n",
            "106/106 [==============================] - 5s 48ms/step - loss: 0.0049 - val_loss: 0.0046\n",
            "Epoch 5/8\n",
            "106/106 [==============================] - 5s 48ms/step - loss: 0.0046 - val_loss: 0.0046\n",
            "Epoch 6/8\n",
            "106/106 [==============================] - 5s 48ms/step - loss: 0.0046 - val_loss: 0.0044\n",
            "Epoch 7/8\n",
            "106/106 [==============================] - 5s 48ms/step - loss: 0.0044 - val_loss: 0.0045\n",
            "Epoch 8/8\n",
            "106/106 [==============================] - 5s 48ms/step - loss: 0.0044 - val_loss: 0.0042\n",
            "Epoch 1/15\n",
            "106/106 [==============================] - 5s 48ms/step - loss: 0.0042 - val_loss: 0.0041\n",
            "Epoch 2/15\n",
            "106/106 [==============================] - 5s 48ms/step - loss: 0.0042 - val_loss: 0.0047\n",
            "Epoch 3/15\n",
            "106/106 [==============================] - 5s 48ms/step - loss: 0.0041 - val_loss: 0.0041\n",
            "Epoch 4/15\n",
            "106/106 [==============================] - 5s 48ms/step - loss: 0.0040 - val_loss: 0.0039\n",
            "Epoch 5/15\n",
            "106/106 [==============================] - 5s 47ms/step - loss: 0.0040 - val_loss: 0.0040\n",
            "Epoch 6/15\n",
            "106/106 [==============================] - 5s 47ms/step - loss: 0.0039 - val_loss: 0.0038\n",
            "Epoch 7/15\n",
            "106/106 [==============================] - 5s 48ms/step - loss: 0.0038 - val_loss: 0.0039\n",
            "Epoch 8/15\n",
            "106/106 [==============================] - 5s 47ms/step - loss: 0.0038 - val_loss: 0.0039\n",
            "Epoch 9/15\n",
            "106/106 [==============================] - 5s 48ms/step - loss: 0.0037 - val_loss: 0.0038\n",
            "Epoch 10/15\n",
            "106/106 [==============================] - 5s 48ms/step - loss: 0.0037 - val_loss: 0.0037\n",
            "Epoch 11/15\n",
            "106/106 [==============================] - 5s 48ms/step - loss: 0.0036 - val_loss: 0.0035\n",
            "Epoch 12/15\n",
            "106/106 [==============================] - 5s 48ms/step - loss: 0.0036 - val_loss: 0.0037\n",
            "Epoch 13/15\n",
            "106/106 [==============================] - 5s 48ms/step - loss: 0.0036 - val_loss: 0.0035\n",
            "Epoch 14/15\n",
            "106/106 [==============================] - 5s 48ms/step - loss: 0.0035 - val_loss: 0.0035\n",
            "Epoch 15/15\n",
            "106/106 [==============================] - 5s 47ms/step - loss: 0.0035 - val_loss: 0.0036\n"
          ],
          "name": "stdout"
        },
        {
          "output_type": "execute_result",
          "data": {
            "text/plain": [
              "<tensorflow.python.keras.callbacks.History at 0x7f315f7eb358>"
            ]
          },
          "metadata": {
            "tags": []
          },
          "execution_count": 6
        }
      ]
    },
    {
      "cell_type": "code",
      "metadata": {
        "id": "PbZvzwxWPwBn",
        "colab_type": "code",
        "colab": {}
      },
      "source": [
        "encoded=encoder.predict(X_test)\n",
        "decoded=decoder.predict(encoded)"
      ],
      "execution_count": 0,
      "outputs": []
    },
    {
      "cell_type": "code",
      "metadata": {
        "id": "h-WcvIbqABK4",
        "colab_type": "code",
        "colab": {}
      },
      "source": [
        "%matplotlib inline"
      ],
      "execution_count": 0,
      "outputs": []
    },
    {
      "cell_type": "code",
      "metadata": {
        "id": "iDUlY_XuQrMQ",
        "colab_type": "code",
        "outputId": "41f9e149-f22a-42ab-9d84-b0d3173accd1",
        "colab": {
          "base_uri": "https://localhost:8080/",
          "height": 163
        }
      },
      "source": [
        "#plot original images from 1 to 10\n",
        "\n",
        "fig=plt.figure(figsize=(28,28))\n",
        "\n",
        "indices=list()\n",
        "\n",
        "for i in range(10):\n",
        "    j=0;\n",
        "    while(y_test[j]!=i):\n",
        "        j+=1\n",
        "\n",
        "    indices.append(j)\n",
        "    fig.add_subplot(1,10,i+1)\n",
        "    plt.imshow(X_test[j].reshape(28,28),cmap='gray')\n"
      ],
      "execution_count": 9,
      "outputs": [
        {
          "output_type": "display_data",
          "data": {
            "image/png": "[encoded data removed]",
            "text/plain": [
              "<Figure size 2016x2016 with 10 Axes>"
            ]
          },
          "metadata": {
            "tags": [],
            "needs_background": "light"
          }
        }
      ]
    },
    {
      "cell_type": "code",
      "metadata": {
        "id": "33VuDLalQ1oB",
        "colab_type": "code",
        "outputId": "241af7f6-f351-4fe9-8e39-3b6c933a7d92",
        "colab": {
          "base_uri": "https://localhost:8080/",
          "height": 163
        }
      },
      "source": [
        "#plot generated images from 1 to 10\n",
        "\n",
        "fig2=plt.figure(figsize=(28,28))\n",
        "\n",
        "for i in range(10):\n",
        "    fig2.add_subplot(1,10,i+1)\n",
        "    plt.imshow(decoded[indices[i]].reshape(28,28),cmap='gray')"
      ],
      "execution_count": 10,
      "outputs": [
        {
          "output_type": "display_data",
          "data": {
            "image/png": "[encoded data removed]",
            "text/plain": [
              "<Figure size 2016x2016 with 10 Axes>"
            ]
          },
          "metadata": {
            "tags": [],
            "needs_background": "light"
          }
        }
      ]
    }
  ]
}