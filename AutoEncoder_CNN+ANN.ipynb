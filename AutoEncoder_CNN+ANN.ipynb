{
  "nbformat": 4,
  "nbformat_minor": 0,
  "metadata": {
    "colab": {
      "name": "AutoEncoder CNN+ANN.ipynb",
      "provenance": [],
      "collapsed_sections": [],
      "authorship_tag": "ABX9TyMjI875sJUcn9YaRPh5Tr9i",
      "include_colab_link": true
    },
    "kernelspec": {
      "name": "python3",
      "display_name": "Python 3"
    },
    "accelerator": "GPU"
  },
  "cells": [
    {
      "cell_type": "markdown",
      "metadata": {
        "id": "view-in-github",
        "colab_type": "text"
      },
      "source": [
        "<a href=\"https://colab.research.google.com/github/sangramch/MNIST-Encoder-Decoder-Network/blob/master/AutoEncoder_CNN%2BANN.ipynb\" target=\"_parent\"><img src=\"https://colab.research.google.com/assets/colab-badge.svg\" alt=\"Open In Colab\"/></a>"
      ]
    },
    {
      "cell_type": "code",
      "metadata": {
        "id": "mtlDby5wDJId",
        "colab_type": "code",
        "colab": {}
      },
      "source": [
        "from tensorflow.keras.models import Model\n",
        "from tensorflow.keras.layers import Dense,Conv2D,MaxPooling2D,Input,Flatten,LeakyReLU,Reshape\n",
        "from tensorflow.keras.optimizers import RMSprop,Adam\n",
        "import numpy as np\n",
        "import matplotlib.pyplot as plt\n",
        "import tensorflow as tf\n",
        "import tensorflow.keras.datasets\n",
        "from sklearn.model_selection import train_test_split"
      ],
      "execution_count": 0,
      "outputs": []
    },
    {
      "cell_type": "code",
      "metadata": {
        "id": "Y53cJGkRDUSQ",
        "colab_type": "code",
        "colab": {}
      },
      "source": [
        "(X_train_loaded, y_train), (X_test_loaded, y_test) = tensorflow.keras.datasets.mnist.load_data()\n",
        "\n",
        "#normalization\n",
        "X_train_loaded=X_train_loaded.astype(\"float32\")/255.0\n",
        "X_test_loaded=X_test_loaded.astype(\"float32\")/255.0\n",
        "\n",
        "#reshape to match input shape\n",
        "X_train=X_train_loaded.reshape(60000,28,28,1)\n",
        "X_test=X_test_loaded.reshape(10000,28,28,1)\n",
        "\n",
        "#train validation split\n",
        "X_train,X_val,y_train,y_val=train_test_split(X_train,y_train,test_size=0.1)"
      ],
      "execution_count": 0,
      "outputs": []
    },
    {
      "cell_type": "code",
      "metadata": {
        "id": "HP123VjVDWgZ",
        "colab_type": "code",
        "colab": {
          "base_uri": "https://localhost:8080/",
          "height": 487
        },
        "outputId": "9a00882a-3f1c-4116-fa39-1f355c23d6a6"
      },
      "source": [
        "#encoder definition\n",
        "\n",
        "enc_in=Input(shape=(28,28,1))\n",
        "\n",
        "enc_conv_l1=Conv2D(32,kernel_size=3,padding=\"same\")(enc_in)\n",
        "enc_act_l1=LeakyReLU()(enc_conv_l1)\n",
        "\n",
        "enc_conv_l2=Conv2D(16,kernel_size=5,padding=\"same\")(enc_act_l1)\n",
        "enc_act_l2=LeakyReLU()(enc_conv_l2)\n",
        "\n",
        "enc_flatten=Flatten()(enc_act_l2)\n",
        "\n",
        "enc_den_l1=Dense(128)(enc_flatten)\n",
        "enc_act_l3=LeakyReLU()(enc_den_l1)\n",
        "\n",
        "enc_den_l2=Dense(8)(enc_act_l3)\n",
        "enc_act_l4=LeakyReLU()(enc_den_l2)\n",
        "\n",
        "encoder=Model(enc_in,enc_act_l4)\n",
        "encoder.summary()"
      ],
      "execution_count": 3,
      "outputs": [
        {
          "output_type": "stream",
          "text": [
            "Model: \"model\"\n",
            "_________________________________________________________________\n",
            "Layer (type)                 Output Shape              Param #   \n",
            "=================================================================\n",
            "input_1 (InputLayer)         [(None, 28, 28, 1)]       0         \n",
            "_________________________________________________________________\n",
            "conv2d (Conv2D)              (None, 28, 28, 32)        320       \n",
            "_________________________________________________________________\n",
            "leaky_re_lu (LeakyReLU)      (None, 28, 28, 32)        0         \n",
            "_________________________________________________________________\n",
            "conv2d_1 (Conv2D)            (None, 28, 28, 16)        12816     \n",
            "_________________________________________________________________\n",
            "leaky_re_lu_1 (LeakyReLU)    (None, 28, 28, 16)        0         \n",
            "_________________________________________________________________\n",
            "flatten (Flatten)            (None, 12544)             0         \n",
            "_________________________________________________________________\n",
            "dense (Dense)                (None, 128)               1605760   \n",
            "_________________________________________________________________\n",
            "leaky_re_lu_2 (LeakyReLU)    (None, 128)               0         \n",
            "_________________________________________________________________\n",
            "dense_1 (Dense)              (None, 8)                 1032      \n",
            "_________________________________________________________________\n",
            "leaky_re_lu_3 (LeakyReLU)    (None, 8)                 0         \n",
            "=================================================================\n",
            "Total params: 1,619,928\n",
            "Trainable params: 1,619,928\n",
            "Non-trainable params: 0\n",
            "_________________________________________________________________\n"
          ],
          "name": "stdout"
        }
      ]
    },
    {
      "cell_type": "code",
      "metadata": {
        "id": "KtJ_c_8IDdY2",
        "colab_type": "code",
        "colab": {
          "base_uri": "https://localhost:8080/",
          "height": 622
        },
        "outputId": "6fcbbabb-952d-438d-dae5-8c4f7690fefb"
      },
      "source": [
        "#decoder definition\n",
        "\n",
        "dec_in=Input(shape=(8))\n",
        "\n",
        "dec_den_l1=Dense(8)(dec_in)\n",
        "dec_act_l1=LeakyReLU()(dec_den_l1)\n",
        "\n",
        "dec_den_l2=Dense(128)(dec_act_l1)\n",
        "dec_act_l2=LeakyReLU()(dec_den_l2)\n",
        "\n",
        "dec_den_l3=Dense(12544)(dec_act_l2)\n",
        "dec_act_l3=LeakyReLU()(dec_den_l3)\n",
        "\n",
        "dec_reshape=Reshape((28,28,16))(dec_act_l3)\n",
        "\n",
        "dec_conv_l1=Conv2D(32,kernel_size=3,padding='same')(dec_reshape)\n",
        "dec_act_l5=LeakyReLU()(dec_conv_l1)\n",
        "\n",
        "dec_conv_l2=Conv2D(16,kernel_size=3,padding='same')(dec_act_l5)\n",
        "dec_act_l6=LeakyReLU()(dec_conv_l2)\n",
        "\n",
        "dec_conv_l3=Conv2D(1,kernel_size=3,padding='same')(dec_act_l6)\n",
        "dec_act_l7=LeakyReLU()(dec_conv_l3)\n",
        "\n",
        "decoder=Model(dec_in,dec_act_l7)\n",
        "decoder.summary()"
      ],
      "execution_count": 4,
      "outputs": [
        {
          "output_type": "stream",
          "text": [
            "Model: \"model_1\"\n",
            "_________________________________________________________________\n",
            "Layer (type)                 Output Shape              Param #   \n",
            "=================================================================\n",
            "input_2 (InputLayer)         [(None, 8)]               0         \n",
            "_________________________________________________________________\n",
            "dense_2 (Dense)              (None, 8)                 72        \n",
            "_________________________________________________________________\n",
            "leaky_re_lu_4 (LeakyReLU)    (None, 8)                 0         \n",
            "_________________________________________________________________\n",
            "dense_3 (Dense)              (None, 128)               1152      \n",
            "_________________________________________________________________\n",
            "leaky_re_lu_5 (LeakyReLU)    (None, 128)               0         \n",
            "_________________________________________________________________\n",
            "dense_4 (Dense)              (None, 12544)             1618176   \n",
            "_________________________________________________________________\n",
            "leaky_re_lu_6 (LeakyReLU)    (None, 12544)             0         \n",
            "_________________________________________________________________\n",
            "reshape (Reshape)            (None, 28, 28, 16)        0         \n",
            "_________________________________________________________________\n",
            "conv2d_2 (Conv2D)            (None, 28, 28, 32)        4640      \n",
            "_________________________________________________________________\n",
            "leaky_re_lu_7 (LeakyReLU)    (None, 28, 28, 32)        0         \n",
            "_________________________________________________________________\n",
            "conv2d_3 (Conv2D)            (None, 28, 28, 16)        4624      \n",
            "_________________________________________________________________\n",
            "leaky_re_lu_8 (LeakyReLU)    (None, 28, 28, 16)        0         \n",
            "_________________________________________________________________\n",
            "conv2d_4 (Conv2D)            (None, 28, 28, 1)         145       \n",
            "_________________________________________________________________\n",
            "leaky_re_lu_9 (LeakyReLU)    (None, 28, 28, 1)         0         \n",
            "=================================================================\n",
            "Total params: 1,628,809\n",
            "Trainable params: 1,628,809\n",
            "Non-trainable params: 0\n",
            "_________________________________________________________________\n"
          ],
          "name": "stdout"
        }
      ]
    },
    {
      "cell_type": "code",
      "metadata": {
        "id": "nKlxqwK-Du-f",
        "colab_type": "code",
        "colab": {
          "base_uri": "https://localhost:8080/",
          "height": 252
        },
        "outputId": "0ad8e40e-78a5-490d-9053-17414e3ea81d"
      },
      "source": [
        "#combined encoder decoder model for training\n",
        "enc_dec_input=Input(shape=(28,28,1))\n",
        "enc_dec_encout=encoder(enc_dec_input)\n",
        "enc_dec_output=decoder(enc_dec_encout)\n",
        "\n",
        "enc_dec_model=Model(enc_dec_input,enc_dec_output)\n",
        "enc_dec_model.compile(loss=\"mse\",optimizer=Adam())\n",
        "enc_dec_model.summary()"
      ],
      "execution_count": 5,
      "outputs": [
        {
          "output_type": "stream",
          "text": [
            "Model: \"model_2\"\n",
            "_________________________________________________________________\n",
            "Layer (type)                 Output Shape              Param #   \n",
            "=================================================================\n",
            "input_3 (InputLayer)         [(None, 28, 28, 1)]       0         \n",
            "_________________________________________________________________\n",
            "model (Model)                (None, 8)                 1619928   \n",
            "_________________________________________________________________\n",
            "model_1 (Model)              (None, 28, 28, 1)         1628809   \n",
            "=================================================================\n",
            "Total params: 3,248,737\n",
            "Trainable params: 3,248,737\n",
            "Non-trainable params: 0\n",
            "_________________________________________________________________\n"
          ],
          "name": "stdout"
        }
      ]
    },
    {
      "cell_type": "code",
      "metadata": {
        "id": "8zRgdNnFDv53",
        "colab_type": "code",
        "colab": {
          "base_uri": "https://localhost:8080/",
          "height": 1000
        },
        "outputId": "3a13af54-a863-44c0-da60-3352c3417504"
      },
      "source": [
        "#first train only decoder, then only encoder, and finally both together\n",
        "\n",
        "encoder.trainable=False\n",
        "enc_dec_model.fit(X_train,X_train,epochs=7,validation_data=(X_val,X_val),batch_size=512)\n",
        "encoder.trainable=True\n",
        "\n",
        "decoder.trainable=False\n",
        "enc_dec_model.fit(X_train,X_train,epochs=8,validation_data=(X_val,X_val),batch_size=512)\n",
        "decoder.trainable=True\n",
        "\n",
        "enc_dec_model.fit(X_train,X_train,epochs=15,validation_data=(X_val,X_val),batch_size=512)"
      ],
      "execution_count": 6,
      "outputs": [
        {
          "output_type": "stream",
          "text": [
            "Epoch 1/7\n",
            "106/106 [==============================] - 3s 26ms/step - loss: 0.0544 - val_loss: 0.0388\n",
            "Epoch 2/7\n",
            "106/106 [==============================] - 2s 23ms/step - loss: 0.0326 - val_loss: 0.0281\n",
            "Epoch 3/7\n",
            "106/106 [==============================] - 2s 23ms/step - loss: 0.0259 - val_loss: 0.0243\n",
            "Epoch 4/7\n",
            "106/106 [==============================] - 2s 23ms/step - loss: 0.0234 - val_loss: 0.0227\n",
            "Epoch 5/7\n",
            "106/106 [==============================] - 2s 23ms/step - loss: 0.0220 - val_loss: 0.0217\n",
            "Epoch 6/7\n",
            "106/106 [==============================] - 2s 23ms/step - loss: 0.0211 - val_loss: 0.0209\n",
            "Epoch 7/7\n",
            "106/106 [==============================] - 2s 23ms/step - loss: 0.0200 - val_loss: 0.0197\n",
            "Epoch 1/8\n",
            "106/106 [==============================] - 2s 23ms/step - loss: 0.0192 - val_loss: 0.0190\n",
            "Epoch 2/8\n",
            "106/106 [==============================] - 2s 23ms/step - loss: 0.0184 - val_loss: 0.0186\n",
            "Epoch 3/8\n",
            "106/106 [==============================] - 2s 23ms/step - loss: 0.0180 - val_loss: 0.0180\n",
            "Epoch 4/8\n",
            "106/106 [==============================] - 2s 23ms/step - loss: 0.0176 - val_loss: 0.0177\n",
            "Epoch 5/8\n",
            "106/106 [==============================] - 2s 23ms/step - loss: 0.0172 - val_loss: 0.0174\n",
            "Epoch 6/8\n",
            "106/106 [==============================] - 2s 23ms/step - loss: 0.0169 - val_loss: 0.0174\n",
            "Epoch 7/8\n",
            "106/106 [==============================] - 2s 23ms/step - loss: 0.0166 - val_loss: 0.0167\n",
            "Epoch 8/8\n",
            "106/106 [==============================] - 2s 23ms/step - loss: 0.0163 - val_loss: 0.0167\n",
            "Epoch 1/15\n",
            "106/106 [==============================] - 2s 23ms/step - loss: 0.0164 - val_loss: 0.0166\n",
            "Epoch 2/15\n",
            "106/106 [==============================] - 2s 23ms/step - loss: 0.0159 - val_loss: 0.0163\n",
            "Epoch 3/15\n",
            "106/106 [==============================] - 2s 23ms/step - loss: 0.0157 - val_loss: 0.0162\n",
            "Epoch 4/15\n",
            "106/106 [==============================] - 2s 23ms/step - loss: 0.0155 - val_loss: 0.0162\n",
            "Epoch 5/15\n",
            "106/106 [==============================] - 2s 23ms/step - loss: 0.0154 - val_loss: 0.0158\n",
            "Epoch 6/15\n",
            "106/106 [==============================] - 2s 23ms/step - loss: 0.0152 - val_loss: 0.0158\n",
            "Epoch 7/15\n",
            "106/106 [==============================] - 2s 23ms/step - loss: 0.0151 - val_loss: 0.0157\n",
            "Epoch 8/15\n",
            "106/106 [==============================] - 2s 23ms/step - loss: 0.0149 - val_loss: 0.0157\n",
            "Epoch 9/15\n",
            "106/106 [==============================] - 2s 23ms/step - loss: 0.0149 - val_loss: 0.0154\n",
            "Epoch 10/15\n",
            "106/106 [==============================] - 2s 23ms/step - loss: 0.0147 - val_loss: 0.0153\n",
            "Epoch 11/15\n",
            "106/106 [==============================] - 2s 23ms/step - loss: 0.0146 - val_loss: 0.0151\n",
            "Epoch 12/15\n",
            "106/106 [==============================] - 2s 23ms/step - loss: 0.0144 - val_loss: 0.0152\n",
            "Epoch 13/15\n",
            "106/106 [==============================] - 2s 23ms/step - loss: 0.0144 - val_loss: 0.0151\n",
            "Epoch 14/15\n",
            "106/106 [==============================] - 2s 23ms/step - loss: 0.0144 - val_loss: 0.0151\n",
            "Epoch 15/15\n",
            "106/106 [==============================] - 2s 23ms/step - loss: 0.0141 - val_loss: 0.0149\n"
          ],
          "name": "stdout"
        },
        {
          "output_type": "execute_result",
          "data": {
            "text/plain": [
              "<tensorflow.python.keras.callbacks.History at 0x7f44f01b4a90>"
            ]
          },
          "metadata": {
            "tags": []
          },
          "execution_count": 6
        }
      ]
    },
    {
      "cell_type": "code",
      "metadata": {
        "id": "jqdrj_KJD6Ck",
        "colab_type": "code",
        "colab": {}
      },
      "source": [
        "encoded=encoder.predict(X_test)\n",
        "decoded=decoder.predict(encoded)"
      ],
      "execution_count": 0,
      "outputs": []
    },
    {
      "cell_type": "code",
      "metadata": {
        "id": "1Zj08KmjEA1B",
        "colab_type": "code",
        "colab": {}
      },
      "source": [
        "%matplotlib inline"
      ],
      "execution_count": 0,
      "outputs": []
    },
    {
      "cell_type": "code",
      "metadata": {
        "id": "yYdvpD9jEDty",
        "colab_type": "code",
        "colab": {
          "base_uri": "https://localhost:8080/",
          "height": 163
        },
        "outputId": "97175162-685e-4de2-afe2-c420ce8f5a37"
      },
      "source": [
        "#plot original images from 1 to 10\n",
        "\n",
        "fig=plt.figure(figsize=(28,28))\n",
        "\n",
        "indices=list()\n",
        "\n",
        "for i in range(10):\n",
        "    j=0;\n",
        "    while(y_test[j]!=i):\n",
        "        j+=1\n",
        "\n",
        "    indices.append(j)\n",
        "    fig.add_subplot(1,10,i+1)\n",
        "    plt.imshow(X_test[j].reshape(28,28),cmap='gray')\n"
      ],
      "execution_count": 9,
      "outputs": [
        {
          "output_type": "display_data",
          "data": {
            "image/png": "[encoded data removed]",
            "text/plain": [
              "<Figure size 2016x2016 with 10 Axes>"
            ]
          },
          "metadata": {
            "tags": [],
            "needs_background": "light"
          }
        }
      ]
    },
    {
      "cell_type": "code",
      "metadata": {
        "id": "MpORR1hmEGEa",
        "colab_type": "code",
        "colab": {
          "base_uri": "https://localhost:8080/",
          "height": 163
        },
        "outputId": "9d00a08c-c704-46ae-e6d2-0ae7a9ed1b27"
      },
      "source": [
        "#plot generated images from 1 to 10\n",
        "\n",
        "fig2=plt.figure(figsize=(28,28))\n",
        "\n",
        "for i in range(10):\n",
        "    fig2.add_subplot(1,10,i+1)\n",
        "    plt.imshow(decoded[indices[i]].reshape(28,28),cmap='gray')"
      ],
      "execution_count": 10,
      "outputs": [
        {
          "output_type": "display_data",
          "data": {
            "image/png": "[encoded data removed]",
            "text/plain": [
              "<Figure size 2016x2016 with 10 Axes>"
            ]
          },
          "metadata": {
            "tags": [],
            "needs_background": "light"
          }
        }
      ]
    }
  ]
}