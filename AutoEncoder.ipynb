{
  "nbformat": 4,
  "nbformat_minor": 0,
  "metadata": {
    "colab": {
      "name": "AutoEncoder.ipynb",
      "provenance": [],
      "collapsed_sections": [],
      "authorship_tag": "ABX9TyPV4OcpiSRtBL+yISk5Lcc7",
      "include_colab_link": true
    },
    "kernelspec": {
      "name": "python3",
      "display_name": "Python 3"
    },
    "accelerator": "GPU"
  },
  "cells": [
    {
      "cell_type": "markdown",
      "metadata": {
        "id": "view-in-github",
        "colab_type": "text"
      },
      "source": [
        "<a href=\"https://colab.research.google.com/github/sangramch/MNIST-Encoder-Decoder-Network/blob/master/AutoEncoder.ipynb\" target=\"_parent\"><img src=\"https://colab.research.google.com/assets/colab-badge.svg\" alt=\"Open In Colab\"/></a>"
      ]
    },
    {
      "cell_type": "code",
      "metadata": {
        "id": "iDt3JVue88TL",
        "colab_type": "code",
        "colab": {}
      },
      "source": [
        "from tensorflow.keras.models import Model\n",
        "from tensorflow.keras.layers import Dense,Conv2D,MaxPooling2D,Input,UpSampling2D,ReLU,ZeroPadding2D\n",
        "from tensorflow.keras.optimizers import RMSprop,Adam\n",
        "import numpy as np\n",
        "import matplotlib.pyplot as plt\n",
        "import tensorflow as tf\n",
        "import tensorflow.keras.datasets\n",
        "from sklearn.model_selection import train_test_split"
      ],
      "execution_count": 0,
      "outputs": []
    },
    {
      "cell_type": "code",
      "metadata": {
        "id": "KiEVXEBm-V62",
        "colab_type": "code",
        "colab": {}
      },
      "source": [
        "(X_train_loaded, y_train), (X_test_loaded, y_test) = tensorflow.keras.datasets.mnist.load_data()\n",
        "\n",
        "#normalization\n",
        "X_train_loaded=X_train_loaded.astype(\"float32\")/255.0\n",
        "X_test_loaded=X_test_loaded.astype(\"float32\")/255.0\n",
        "\n",
        "#reshape to match input shape\n",
        "X_train=X_train_loaded.reshape(60000,28,28,1)\n",
        "X_test=X_test_loaded.reshape(10000,28,28,1)\n",
        "\n",
        "#train validation split\n",
        "X_train,X_val,y_train,y_val=train_test_split(X_train,y_train,test_size=0.1)"
      ],
      "execution_count": 0,
      "outputs": []
    },
    {
      "cell_type": "code",
      "metadata": {
        "id": "cfBPu6ji-dHg",
        "colab_type": "code",
        "outputId": "9240a6bb-4af8-47cd-8a2f-0b454be17d15",
        "colab": {
          "base_uri": "https://localhost:8080/",
          "height": 588
        }
      },
      "source": [
        "#encoder definition\n",
        "\n",
        "enc_in=Input(shape=(28,28,1))\n",
        "\n",
        "enc_conv_l1=Conv2D(16,kernel_size=3,padding=\"same\")(enc_in)\n",
        "enc_act_l1=ReLU()(enc_conv_l1)\n",
        "\n",
        "enc_conv_l2=Conv2D(32,kernel_size=5,padding=\"same\")(enc_act_l1)\n",
        "enc_act_l2=ReLU()(enc_conv_l2)\n",
        "\n",
        "enc_mpool_l1=MaxPooling2D()(enc_act_l2)\n",
        "\n",
        "enc_conv_l3=Conv2D(32,kernel_size=5,padding=\"same\")(enc_mpool_l1)\n",
        "enc_act_l3=ReLU()(enc_conv_l3)\n",
        "\n",
        "enc_conv_l4=Conv2D(16,kernel_size=5,padding=\"same\")(enc_act_l3)\n",
        "enc_act_l4=ReLU()(enc_conv_l4)\n",
        "\n",
        "enc_mpool_l2=MaxPooling2D()(enc_act_l4)\n",
        "\n",
        "enc_conv_l5=Conv2D(1,kernel_size=5,padding=\"same\")(enc_mpool_l2)\n",
        "enc_act_l5=ReLU()(enc_conv_l5)\n",
        "\n",
        "encoder=Model(enc_in,enc_act_l5)\n",
        "\n",
        "\n",
        "#Uncomment this and comment the above for CNN+ANN model with a lot higher compression but somewhat low quality output\n",
        "\"\"\"\n",
        "enc_in=Input(shape=(28,28,1))\n",
        "\n",
        "enc_conv_l1=Conv2D(32,kernel_size=3,padding=\"same\")(enc_in)\n",
        "enc_act_l1=LeakyReLU()(enc_conv_l1)\n",
        "\n",
        "enc_conv_l2=Conv2D(16,kernel_size=5,padding=\"same\")(enc_act_l1)\n",
        "enc_act_l2=LeakyReLU()(enc_conv_l2)\n",
        "\n",
        "enc_flatten=Flatten()(enc_act_l2)\n",
        "\n",
        "enc_den_l1=Dense(128)(enc_flatten)\n",
        "enc_act_l3=LeakyReLU()(enc_den_l1)\n",
        "\n",
        "enc_den_l2=Dense(8)(enc_act_l3)\n",
        "enc_act_l4=LeakyReLU()(enc_den_l2)\n",
        "\n",
        "encoder=Model(enc_in,enc_act_l4)\n",
        "\"\"\"\n",
        "\n",
        "encoder.summary()"
      ],
      "execution_count": 0,
      "outputs": [
        {
          "output_type": "stream",
          "text": [
            "Model: \"model\"\n",
            "_________________________________________________________________\n",
            "Layer (type)                 Output Shape              Param #   \n",
            "=================================================================\n",
            "input_1 (InputLayer)         [(None, 28, 28, 1)]       0         \n",
            "_________________________________________________________________\n",
            "conv2d (Conv2D)              (None, 28, 28, 16)        160       \n",
            "_________________________________________________________________\n",
            "re_lu (ReLU)                 (None, 28, 28, 16)        0         \n",
            "_________________________________________________________________\n",
            "conv2d_1 (Conv2D)            (None, 28, 28, 32)        12832     \n",
            "_________________________________________________________________\n",
            "re_lu_1 (ReLU)               (None, 28, 28, 32)        0         \n",
            "_________________________________________________________________\n",
            "max_pooling2d (MaxPooling2D) (None, 14, 14, 32)        0         \n",
            "_________________________________________________________________\n",
            "conv2d_2 (Conv2D)            (None, 14, 14, 32)        25632     \n",
            "_________________________________________________________________\n",
            "re_lu_2 (ReLU)               (None, 14, 14, 32)        0         \n",
            "_________________________________________________________________\n",
            "conv2d_3 (Conv2D)            (None, 14, 14, 16)        12816     \n",
            "_________________________________________________________________\n",
            "re_lu_3 (ReLU)               (None, 14, 14, 16)        0         \n",
            "_________________________________________________________________\n",
            "max_pooling2d_1 (MaxPooling2 (None, 7, 7, 16)          0         \n",
            "_________________________________________________________________\n",
            "conv2d_4 (Conv2D)            (None, 7, 7, 1)           401       \n",
            "_________________________________________________________________\n",
            "re_lu_4 (ReLU)               (None, 7, 7, 1)           0         \n",
            "=================================================================\n",
            "Total params: 51,841\n",
            "Trainable params: 51,841\n",
            "Non-trainable params: 0\n",
            "_________________________________________________________________\n"
          ],
          "name": "stdout"
        }
      ]
    },
    {
      "cell_type": "code",
      "metadata": {
        "id": "85drWnoLEKfL",
        "colab_type": "code",
        "outputId": "883e9434-cd73-47e3-f28f-4a196afacf38",
        "colab": {
          "base_uri": "https://localhost:8080/",
          "height": 655
        }
      },
      "source": [
        "#decoder definition\n",
        "\n",
        "dec_in=Input(shape=(7,7,1))\n",
        "\n",
        "dec_conv_l1=Conv2D(16,kernel_size=3,padding='same')(dec_in)\n",
        "dec_act_l1=ReLU()(dec_conv_l1)\n",
        "\n",
        "dec_conv_l2=Conv2D(32,kernel_size=3,padding='same')(dec_act_l1)\n",
        "dec_act_l2=ReLU()(dec_conv_l2)\n",
        "\n",
        "dec_usamp_l1=UpSampling2D()(dec_act_l2)\n",
        "\n",
        "dec_conv_l3=Conv2D(32,kernel_size=3,padding='same')(dec_usamp_l1)\n",
        "dec_act_l3=ReLU()(dec_conv_l3)\n",
        "\n",
        "dec_conv_l4=Conv2D(16,kernel_size=3,padding='same')(dec_act_l3)\n",
        "dec_act_l4=ReLU()(dec_conv_l4)\n",
        "\n",
        "dec_usamp_l2=UpSampling2D()(dec_act_l4)\n",
        "\n",
        "dec_conv_l5=Conv2D(8,kernel_size=3,padding='same')(dec_usamp_l2)\n",
        "dec_act_l5=ReLU()(dec_conv_l5)\n",
        "\n",
        "dec_conv_l6=Conv2D(1,kernel_size=3,padding='same')(dec_act_l5)\n",
        "dec_act_l6=ReLU()(dec_conv_l6)\n",
        "\n",
        "\n",
        "decoder=Model(dec_in,dec_act_l6)\n",
        "\n",
        "\n",
        "##Uncomment below and comment the above model if using CNN-ANN version of the encoder.\n",
        "\"\"\"\n",
        "dec_in=Input(shape=(8))\n",
        "\n",
        "dec_den_l1=Dense(8)(dec_in)\n",
        "dec_act_l1=LeakyReLU()(dec_den_l1)\n",
        "\n",
        "dec_den_l2=Dense(128)(dec_act_l1)\n",
        "dec_act_l2=LeakyReLU()(dec_den_l2)\n",
        "\n",
        "dec_den_l3=Dense(12544)(dec_act_l2)\n",
        "dec_act_l3=LeakyReLU()(dec_den_l3)\n",
        "\n",
        "dec_reshape=Reshape((28,28,16))(dec_act_l3)\n",
        "\n",
        "dec_conv_l1=Conv2D(32,kernel_size=3,padding='same')(dec_reshape)\n",
        "dec_act_l5=LeakyReLU()(dec_conv_l1)\n",
        "\n",
        "dec_conv_l2=Conv2D(16,kernel_size=3,padding='same')(dec_act_l5)\n",
        "dec_act_l6=LeakyReLU()(dec_conv_l2)\n",
        "\n",
        "dec_conv_l3=Conv2D(1,kernel_size=3,padding='same')(dec_act_l6)\n",
        "dec_act_l7=LeakyReLU()(dec_conv_l3)\n",
        "\n",
        "\n",
        "decoder=Model(dec_in,dec_act_l7)\n",
        "\"\"\"\n",
        "\n",
        "decoder.summary()"
      ],
      "execution_count": 0,
      "outputs": [
        {
          "output_type": "stream",
          "text": [
            "Model: \"model_1\"\n",
            "_________________________________________________________________\n",
            "Layer (type)                 Output Shape              Param #   \n",
            "=================================================================\n",
            "input_2 (InputLayer)         [(None, 7, 7, 1)]         0         \n",
            "_________________________________________________________________\n",
            "conv2d_5 (Conv2D)            (None, 7, 7, 16)          160       \n",
            "_________________________________________________________________\n",
            "re_lu_5 (ReLU)               (None, 7, 7, 16)          0         \n",
            "_________________________________________________________________\n",
            "conv2d_6 (Conv2D)            (None, 7, 7, 32)          4640      \n",
            "_________________________________________________________________\n",
            "re_lu_6 (ReLU)               (None, 7, 7, 32)          0         \n",
            "_________________________________________________________________\n",
            "up_sampling2d (UpSampling2D) (None, 14, 14, 32)        0         \n",
            "_________________________________________________________________\n",
            "conv2d_7 (Conv2D)            (None, 14, 14, 32)        9248      \n",
            "_________________________________________________________________\n",
            "re_lu_7 (ReLU)               (None, 14, 14, 32)        0         \n",
            "_________________________________________________________________\n",
            "conv2d_8 (Conv2D)            (None, 14, 14, 16)        4624      \n",
            "_________________________________________________________________\n",
            "re_lu_8 (ReLU)               (None, 14, 14, 16)        0         \n",
            "_________________________________________________________________\n",
            "up_sampling2d_1 (UpSampling2 (None, 28, 28, 16)        0         \n",
            "_________________________________________________________________\n",
            "conv2d_9 (Conv2D)            (None, 28, 28, 8)         1160      \n",
            "_________________________________________________________________\n",
            "re_lu_9 (ReLU)               (None, 28, 28, 8)         0         \n",
            "_________________________________________________________________\n",
            "conv2d_10 (Conv2D)           (None, 28, 28, 1)         73        \n",
            "_________________________________________________________________\n",
            "re_lu_10 (ReLU)              (None, 28, 28, 1)         0         \n",
            "=================================================================\n",
            "Total params: 19,905\n",
            "Trainable params: 19,905\n",
            "Non-trainable params: 0\n",
            "_________________________________________________________________\n"
          ],
          "name": "stdout"
        }
      ]
    },
    {
      "cell_type": "code",
      "metadata": {
        "id": "SCP3lgehIfT8",
        "colab_type": "code",
        "outputId": "9186e65f-bef5-4537-fc9c-627235d66c9f",
        "colab": {
          "base_uri": "https://localhost:8080/",
          "height": 252
        }
      },
      "source": [
        "#combined encoder decoder model for training\n",
        "enc_dec_input=Input(shape=(28,28,1))\n",
        "enc_dec_encout=encoder(enc_dec_input)\n",
        "enc_dec_output=decoder(enc_dec_encout)\n",
        "\n",
        "enc_dec_model=Model(enc_dec_input,enc_dec_output)\n",
        "enc_dec_model.summary()"
      ],
      "execution_count": 0,
      "outputs": [
        {
          "output_type": "stream",
          "text": [
            "Model: \"model_2\"\n",
            "_________________________________________________________________\n",
            "Layer (type)                 Output Shape              Param #   \n",
            "=================================================================\n",
            "input_3 (InputLayer)         [(None, 28, 28, 1)]       0         \n",
            "_________________________________________________________________\n",
            "model (Model)                (None, 7, 7, 1)           51841     \n",
            "_________________________________________________________________\n",
            "model_1 (Model)              (None, 28, 28, 1)         19905     \n",
            "=================================================================\n",
            "Total params: 71,746\n",
            "Trainable params: 71,746\n",
            "Non-trainable params: 0\n",
            "_________________________________________________________________\n"
          ],
          "name": "stdout"
        }
      ]
    },
    {
      "cell_type": "code",
      "metadata": {
        "id": "hf_JjIHiKDxY",
        "colab_type": "code",
        "colab": {}
      },
      "source": [
        "enc_dec_model.compile(loss=\"mse\",optimizer=Adam())"
      ],
      "execution_count": 0,
      "outputs": []
    },
    {
      "cell_type": "code",
      "metadata": {
        "id": "htTh5wHOHdaf",
        "colab_type": "code",
        "outputId": "eeee7de8-d948-44b3-a87c-84c096c03cbd",
        "colab": {
          "base_uri": "https://localhost:8080/",
          "height": 1000
        }
      },
      "source": [
        "#first train only decoder, then only encoder, and finally both together\n",
        "\n",
        "encoder.trainable=False\n",
        "enc_dec_model.fit(X_train,X_train,epochs=7,validation_data=(X_val,X_val),batch_size=512)\n",
        "encoder.trainable=True\n",
        "\n",
        "decoder.trainable=False\n",
        "enc_dec_model.fit(X_train,X_train,epochs=8,validation_data=(X_val,X_val),batch_size=512)\n",
        "decoder.trainable=True\n",
        "\n",
        "enc_dec_model.fit(X_train,X_train,epochs=15,validation_data=(X_val,X_val),batch_size=512)"
      ],
      "execution_count": 0,
      "outputs": [
        {
          "output_type": "stream",
          "text": [
            "Epoch 1/30\n",
            "106/106 [==============================] - 3s 27ms/step - loss: 0.0447 - val_loss: 0.0172\n",
            "Epoch 2/30\n",
            "106/106 [==============================] - 2s 23ms/step - loss: 0.0131 - val_loss: 0.0105\n",
            "Epoch 3/30\n",
            "106/106 [==============================] - 2s 23ms/step - loss: 0.0100 - val_loss: 0.0092\n",
            "Epoch 4/30\n",
            "106/106 [==============================] - 2s 23ms/step - loss: 0.0087 - val_loss: 0.0082\n",
            "Epoch 5/30\n",
            "106/106 [==============================] - 2s 23ms/step - loss: 0.0079 - val_loss: 0.0073\n",
            "Epoch 6/30\n",
            "106/106 [==============================] - 2s 23ms/step - loss: 0.0074 - val_loss: 0.0069\n",
            "Epoch 7/30\n",
            "106/106 [==============================] - 2s 23ms/step - loss: 0.0069 - val_loss: 0.0065\n",
            "Epoch 8/30\n",
            "106/106 [==============================] - 2s 23ms/step - loss: 0.0066 - val_loss: 0.0065\n",
            "Epoch 9/30\n",
            "106/106 [==============================] - 2s 23ms/step - loss: 0.0064 - val_loss: 0.0061\n",
            "Epoch 10/30\n",
            "106/106 [==============================] - 2s 23ms/step - loss: 0.0061 - val_loss: 0.0060\n",
            "Epoch 11/30\n",
            "106/106 [==============================] - 2s 23ms/step - loss: 0.0059 - val_loss: 0.0057\n",
            "Epoch 12/30\n",
            "106/106 [==============================] - 2s 23ms/step - loss: 0.0057 - val_loss: 0.0055\n",
            "Epoch 13/30\n",
            "106/106 [==============================] - 2s 23ms/step - loss: 0.0056 - val_loss: 0.0053\n",
            "Epoch 14/30\n",
            "106/106 [==============================] - 2s 23ms/step - loss: 0.0054 - val_loss: 0.0055\n",
            "Epoch 15/30\n",
            "106/106 [==============================] - 2s 23ms/step - loss: 0.0053 - val_loss: 0.0052\n",
            "Epoch 16/30\n",
            "106/106 [==============================] - 2s 23ms/step - loss: 0.0052 - val_loss: 0.0051\n",
            "Epoch 17/30\n",
            "106/106 [==============================] - 2s 23ms/step - loss: 0.0052 - val_loss: 0.0052\n",
            "Epoch 18/30\n",
            "106/106 [==============================] - 2s 23ms/step - loss: 0.0050 - val_loss: 0.0049\n",
            "Epoch 19/30\n",
            "106/106 [==============================] - 2s 23ms/step - loss: 0.0049 - val_loss: 0.0049\n",
            "Epoch 20/30\n",
            "106/106 [==============================] - 2s 23ms/step - loss: 0.0049 - val_loss: 0.0046\n",
            "Epoch 21/30\n",
            "106/106 [==============================] - 2s 23ms/step - loss: 0.0047 - val_loss: 0.0062\n",
            "Epoch 22/30\n",
            "106/106 [==============================] - 2s 23ms/step - loss: 0.0047 - val_loss: 0.0048\n",
            "Epoch 23/30\n",
            "106/106 [==============================] - 2s 23ms/step - loss: 0.0046 - val_loss: 0.0045\n",
            "Epoch 24/30\n",
            "106/106 [==============================] - 2s 23ms/step - loss: 0.0046 - val_loss: 0.0044\n",
            "Epoch 25/30\n",
            "106/106 [==============================] - 2s 23ms/step - loss: 0.0045 - val_loss: 0.0045\n",
            "Epoch 26/30\n",
            "106/106 [==============================] - 2s 23ms/step - loss: 0.0044 - val_loss: 0.0056\n",
            "Epoch 27/30\n",
            "106/106 [==============================] - 2s 22ms/step - loss: 0.0044 - val_loss: 0.0043\n",
            "Epoch 28/30\n",
            "106/106 [==============================] - 2s 23ms/step - loss: 0.0043 - val_loss: 0.0043\n",
            "Epoch 29/30\n",
            "106/106 [==============================] - 2s 23ms/step - loss: 0.0042 - val_loss: 0.0043\n",
            "Epoch 30/30\n",
            "106/106 [==============================] - 2s 23ms/step - loss: 0.0043 - val_loss: 0.0045\n"
          ],
          "name": "stdout"
        },
        {
          "output_type": "execute_result",
          "data": {
            "text/plain": [
              "<tensorflow.python.keras.callbacks.History at 0x7fdcfe08e4e0>"
            ]
          },
          "metadata": {
            "tags": []
          },
          "execution_count": 7
        }
      ]
    },
    {
      "cell_type": "code",
      "metadata": {
        "id": "PbZvzwxWPwBn",
        "colab_type": "code",
        "colab": {}
      },
      "source": [
        "encoded=encoder.predict(X_test)\n",
        "decoded=decoder.predict(encoded)"
      ],
      "execution_count": 0,
      "outputs": []
    },
    {
      "cell_type": "code",
      "metadata": {
        "id": "h-WcvIbqABK4",
        "colab_type": "code",
        "colab": {}
      },
      "source": [
        "%matplotlib inline"
      ],
      "execution_count": 0,
      "outputs": []
    },
    {
      "cell_type": "code",
      "metadata": {
        "id": "iDUlY_XuQrMQ",
        "colab_type": "code",
        "outputId": "e52b41b6-109b-4425-c6b3-c7bf297fe022",
        "colab": {
          "base_uri": "https://localhost:8080/",
          "height": 163
        }
      },
      "source": [
        "#plot original images from 1 to 10\n",
        "\n",
        "fig=plt.figure(figsize=(28,28))\n",
        "\n",
        "indices=list()\n",
        "\n",
        "for i in range(10):\n",
        "    j=0;\n",
        "    while(y_test[j]!=i):\n",
        "        j+=1\n",
        "\n",
        "    indices.append(j)\n",
        "    fig.add_subplot(1,10,i+1)\n",
        "    plt.imshow(X_test[j].reshape(28,28),cmap='gray')\n"
      ],
      "execution_count": 0,
      "outputs": [
        {
          "output_type": "display_data",
          "data": {
            "image/png": "[encoded data removed]",
            "text/plain": [
              "<Figure size 2016x2016 with 10 Axes>"
            ]
          },
          "metadata": {
            "tags": [],
            "needs_background": "light"
          }
        }
      ]
    },
    {
      "cell_type": "code",
      "metadata": {
        "id": "33VuDLalQ1oB",
        "colab_type": "code",
        "outputId": "01a9f3ba-21e0-4029-c725-c9effd0ec754",
        "colab": {
          "base_uri": "https://localhost:8080/",
          "height": 163
        }
      },
      "source": [
        "#plot generated images from 1 to 10\n",
        "\n",
        "fig2=plt.figure(figsize=(28,28))\n",
        "\n",
        "for i in range(10):\n",
        "    fig2.add_subplot(1,10,i+1)\n",
        "    plt.imshow(decoded[indices[i]].reshape(28,28),cmap='gray')"
      ],
      "execution_count": 0,
      "outputs": [
        {
          "output_type": "display_data",
          "data": {
            "image/png": "[encoded data removed]",
            "text/plain": [
              "<Figure size 2016x2016 with 10 Axes>"
            ]
          },
          "metadata": {
            "tags": [],
            "needs_background": "light"
          }
        }
      ]
    }
  ]
}